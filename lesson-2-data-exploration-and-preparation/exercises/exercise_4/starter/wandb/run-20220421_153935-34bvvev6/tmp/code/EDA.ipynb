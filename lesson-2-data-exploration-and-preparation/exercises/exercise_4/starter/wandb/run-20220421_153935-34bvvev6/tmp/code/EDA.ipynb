{
 "cells": [
  {
   "cell_type": "code",
   "execution_count": 1,
   "id": "28cb0fcd",
   "metadata": {},
   "outputs": [
    {
     "name": "stderr",
     "output_type": "stream",
     "text": [
      "/Users/viveksavita/miniforge3/envs/mlflow-6a43dadea10d983e4f1db1014c3397703a144662/lib/python3.9/site-packages/tqdm/auto.py:22: TqdmWarning: IProgress not found. Please update jupyter and ipywidgets. See https://ipywidgets.readthedocs.io/en/stable/user_install.html\n",
      "  from .autonotebook import tqdm as notebook_tqdm\n"
     ]
    }
   ],
   "source": [
    "import seaborn as sns\n",
    "import pandas as pd\n",
    "import pandas_profiling\n",
    "import wandb\n"
   ]
  },
  {
   "cell_type": "code",
   "execution_count": 2,
   "id": "6ae10f1a",
   "metadata": {},
   "outputs": [
    {
     "name": "stderr",
     "output_type": "stream",
     "text": [
      "\u001b[34m\u001b[1mwandb\u001b[0m: Currently logged in as: \u001b[33mviveksavita\u001b[0m (use `wandb login --relogin` to force relogin)\n",
      "\u001b[34m\u001b[1mwandb\u001b[0m: wandb version 0.12.14 is available!  To upgrade, please run:\n",
      "\u001b[34m\u001b[1mwandb\u001b[0m:  $ pip install wandb --upgrade\n"
     ]
    },
    {
     "data": {
      "text/html": [
       "\n",
       "                Tracking run with wandb version 0.10.21<br/>\n",
       "                Syncing run <strong style=\"color:#cdcd00\">helpful-puddle-2</strong> to <a href=\"https://wandb.ai\" target=\"_blank\">Weights & Biases</a> <a href=\"https://docs.wandb.com/integrations/jupyter.html\" target=\"_blank\">(Documentation)</a>.<br/>\n",
       "                Project page: <a href=\"https://wandb.ai/viveksavita/exercise_4\" target=\"_blank\">https://wandb.ai/viveksavita/exercise_4</a><br/>\n",
       "                Run page: <a href=\"https://wandb.ai/viveksavita/exercise_4/runs/34bvvev6\" target=\"_blank\">https://wandb.ai/viveksavita/exercise_4/runs/34bvvev6</a><br/>\n",
       "                Run data is saved locally in <code>/Users/viveksavita/Additional/nd0821-c2-build-model-workflow-exercises/lesson-2-data-exploration-and-preparation/exercises/exercise_4/starter/wandb/run-20220421_153935-34bvvev6</code><br/><br/>\n",
       "            "
      ],
      "text/plain": [
       "<IPython.core.display.HTML object>"
      ]
     },
     "metadata": {},
     "output_type": "display_data"
    }
   ],
   "source": [
    "run = wandb.init(project = \"exercise_4\" , save_code=True)"
   ]
  },
  {
   "cell_type": "code",
   "execution_count": 4,
   "id": "49af7975",
   "metadata": {},
   "outputs": [],
   "source": [
    "artifact = run.use_artifact(\"exercise_4/genres_mod.parquet:v0\")"
   ]
  },
  {
   "cell_type": "code",
   "execution_count": 5,
   "id": "f0b0d778",
   "metadata": {},
   "outputs": [],
   "source": [
    "local_path = artifact.file()"
   ]
  },
  {
   "cell_type": "code",
   "execution_count": null,
   "id": "629c68b9",
   "metadata": {},
   "outputs": [],
   "source": [
    "df = read_parquet(local_path)\n",
    "print(df.head(1))"
   ]
  }
 ],
 "metadata": {
  "kernelspec": {
   "display_name": "Python 3 (ipykernel)",
   "language": "python",
   "name": "python3"
  },
  "language_info": {
   "codemirror_mode": {
    "name": "ipython",
    "version": 3
   },
   "file_extension": ".py",
   "mimetype": "text/x-python",
   "name": "python",
   "nbconvert_exporter": "python",
   "pygments_lexer": "ipython3",
   "version": "3.9.12"
  }
 },
 "nbformat": 4,
 "nbformat_minor": 5
}
